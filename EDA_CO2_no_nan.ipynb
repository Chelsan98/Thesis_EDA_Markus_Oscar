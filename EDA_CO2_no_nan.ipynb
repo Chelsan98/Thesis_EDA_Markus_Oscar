{
 "cells": [
  {
   "cell_type": "markdown",
   "metadata": {},
   "source": [
    "## **The start of analysis with all empty values removed**"
   ]
  },
  {
   "cell_type": "code",
   "execution_count": 35,
   "metadata": {},
   "outputs": [
    {
     "name": "stdout",
     "output_type": "stream",
     "text": [
      "           Country ISO 3166-1 alpha-3  UN M49  Year         Total  \\\n",
      "0      Afghanistan                AFG       4  1750           NaN   \n",
      "1      Afghanistan                AFG       4  1751           NaN   \n",
      "2      Afghanistan                AFG       4  1752           NaN   \n",
      "3      Afghanistan                AFG       4  1753           NaN   \n",
      "4      Afghanistan                AFG       4  1754           NaN   \n",
      "...            ...                ...     ...   ...           ...   \n",
      "61420       Global                WLD     756  2018  36766.912297   \n",
      "61421       Global                WLD     756  2019  37039.881946   \n",
      "61422       Global                WLD     756  2020  35007.822458   \n",
      "61423       Global                WLD     756  2021  36815.680623   \n",
      "61424       Global                WLD     756  2022  37150.949699   \n",
      "\n",
      "               Coal           Oil          Gas       Cement     Flaring  \\\n",
      "0               NaN           NaN          NaN     0.000000         NaN   \n",
      "1               NaN           NaN          NaN     0.000000         NaN   \n",
      "2               NaN           NaN          NaN     0.000000         NaN   \n",
      "3               NaN           NaN          NaN     0.000000         NaN   \n",
      "4               NaN           NaN          NaN     0.000000         NaN   \n",
      "...             ...           ...          ...          ...         ...   \n",
      "61420  14725.249126  12267.151230  7498.324347  1565.747837  407.294309   \n",
      "61421  14684.277641  12377.248495  7621.995402  1615.727106  435.425169   \n",
      "61422  14225.918061  10899.216217  7556.077650  1633.042883  398.519503   \n",
      "61423  14982.537322  11513.189924  7922.817236  1692.365347  403.428995   \n",
      "61424  15222.908123  11876.300292  7747.715288  1605.401432  397.451425   \n",
      "\n",
      "            Other  Per Capita  \n",
      "0             NaN         NaN  \n",
      "1             NaN         NaN  \n",
      "2             NaN         NaN  \n",
      "3             NaN         NaN  \n",
      "4             NaN         NaN  \n",
      "...           ...         ...  \n",
      "61420  303.145448    4.784997  \n",
      "61421  305.208132    4.770137  \n",
      "61422  295.048144    4.464741  \n",
      "61423  301.341800    4.654736  \n",
      "61424  301.173140    4.658365  \n",
      "\n",
      "[61425 rows x 12 columns]\n"
     ]
    }
   ],
   "source": [
    "import pandas as pd\n",
    "import numpy as np\n",
    "import seaborn as sbn\n",
    "import matplotlib.pyplot as plt\n",
    "import sys\n",
    "# suppress warnings\n",
    "if not sys.warnoptions:\n",
    "    import warnings\n",
    "    warnings.simplefilter(\"ignore\")\n",
    "\n",
    "try:\n",
    "    dataCo2 = pd.read_csv('CO2.csv')\n",
    "    dataCo2= pd.DataFrame(dataCo2)\n",
    "except:\n",
    "    FileNotFoundError \n",
    "    print(\"data can´t be found\")\n",
    "\n",
    "print(dataCo2) # to see the basic structure of the data"
   ]
  },
  {
   "cell_type": "code",
   "execution_count": 36,
   "metadata": {},
   "outputs": [
    {
     "name": "stdout",
     "output_type": "stream",
     "text": [
      "Index(['Country', 'ISO Code', 'Year', 'Total Co2 Emission (Mt)', 'Coal', 'Oil',\n",
      "       'Gas', 'Cement', 'Flaring', 'Other', 'Per Capita (t)'],\n",
      "      dtype='object') \n",
      "\n"
     ]
    }
   ],
   "source": [
    "# Rename coulmn names to be more readable\n",
    "dataCo2=dataCo2.rename({\"ISO 3166-1 alpha-3\": \"ISO Code\", \"Total\":\"Total Co2 Emission (Mt)\", \"Per Capita\":\"Per Capita (t)\"},axis=1)\n",
    "dataCo2 = dataCo2.drop([\"UN M49\"], axis=1) # This is recommended by the author as the column is not yet reliable.\n",
    "print(dataCo2.columns,\"\\n\")"
   ]
  },
  {
   "cell_type": "code",
   "execution_count": 37,
   "metadata": {},
   "outputs": [
    {
     "name": "stdout",
     "output_type": "stream",
     "text": [
      "number of nan values per column\n",
      " Country                        0\n",
      "ISO Code                    1092\n",
      "Year                           0\n",
      "Total Co2 Emission (Mt)    38253\n",
      "Coal                       38470\n",
      "Oil                        39655\n",
      "Gas                        39683\n",
      "Cement                     37884\n",
      "Flaring                    39774\n",
      "Other                      59612\n",
      "Per Capita (t)             43882\n",
      "dtype: int64\n"
     ]
    }
   ],
   "source": [
    "print(\"number of nan values per column\\n\",dataCo2.isna().sum()) # check for nan values."
   ]
  },
  {
   "cell_type": "markdown",
   "metadata": {},
   "source": [
    "### **Removed the \"Other\" column since it´s very incomplete overall and would affect the result to much**\n",
    "- 15181 rows x 10 columns with removing it\n",
    "- 1813 rows x 11 columns by not removing it\n",
    "- This leads to a lesser degree of dataloss"
   ]
  },
  {
   "cell_type": "code",
   "execution_count": 38,
   "metadata": {},
   "outputs": [
    {
     "name": "stdout",
     "output_type": "stream",
     "text": [
      "number of nan values per column\n",
      " Country                    0\n",
      "ISO Code                   0\n",
      "Year                       0\n",
      "Total Co2 Emission (Mt)    0\n",
      "Coal                       0\n",
      "Oil                        0\n",
      "Gas                        0\n",
      "Cement                     0\n",
      "Flaring                    0\n",
      "Per Capita (t)             0\n",
      "dtype: int64\n"
     ]
    }
   ],
   "source": [
    "dataCo2= dataCo2.drop([\"Other\"], axis=1) \n",
    "dataCo2=dataCo2.dropna()\n",
    "print(\"number of nan values per column\\n\",dataCo2.isna().sum()) # Double-check for nan values."
   ]
  },
  {
   "cell_type": "code",
   "execution_count": 39,
   "metadata": {},
   "outputs": [
    {
     "name": "stdout",
     "output_type": "stream",
     "text": [
      "           Country ISO Code  Year  Total Co2 Emission (Mt)          Coal  \\\n",
      "200    Afghanistan      AFG  1950                 0.084272      0.021068   \n",
      "201    Afghanistan      AFG  1951                 0.091600      0.025648   \n",
      "202    Afghanistan      AFG  1952                 0.091600      0.031708   \n",
      "203    Afghanistan      AFG  1953                 0.106256      0.037949   \n",
      "204    Afghanistan      AFG  1954                 0.106256      0.042502   \n",
      "...            ...      ...   ...                      ...           ...   \n",
      "61420       Global      WLD  2018             36766.912297  14725.249126   \n",
      "61421       Global      WLD  2019             37039.881946  14684.277641   \n",
      "61422       Global      WLD  2020             35007.822458  14225.918061   \n",
      "61423       Global      WLD  2021             36815.680623  14982.537322   \n",
      "61424       Global      WLD  2022             37150.949699  15222.908123   \n",
      "\n",
      "                Oil          Gas       Cement     Flaring  Per Capita (t)  \n",
      "200        0.063204     0.000000     0.000000    0.000000        0.011266  \n",
      "201        0.065952     0.000000     0.000000    0.000000        0.012098  \n",
      "202        0.059892     0.000000     0.000000    0.000000        0.011946  \n",
      "203        0.068307     0.000000     0.000000    0.000000        0.013685  \n",
      "204        0.063754     0.000000     0.000000    0.000000        0.013511  \n",
      "...             ...          ...          ...         ...             ...  \n",
      "61420  12267.151230  7498.324347  1565.747837  407.294309        4.784997  \n",
      "61421  12377.248495  7621.995402  1615.727106  435.425169        4.770137  \n",
      "61422  10899.216217  7556.077650  1633.042883  398.519503        4.464741  \n",
      "61423  11513.189924  7922.817236  1692.365347  403.428995        4.654736  \n",
      "61424  11876.300292  7747.715288  1605.401432  397.451425        4.658365  \n",
      "\n",
      "[15181 rows x 10 columns]\n"
     ]
    }
   ],
   "source": [
    "print(dataCo2)"
   ]
  },
  {
   "cell_type": "code",
   "execution_count": 40,
   "metadata": {},
   "outputs": [
    {
     "name": "stdout",
     "output_type": "stream",
     "text": [
      "Total Co2 Emission (Mt)    212.120822\n",
      "Coal                        89.200518\n",
      "Oil                         78.811780\n",
      "Gas                         34.166055\n",
      "Cement                       6.083632\n",
      "Flaring                      2.550702\n",
      "Per Capita (t)               5.177676\n",
      "dtype: float64\n"
     ]
    }
   ],
   "source": [
    "print(dataCo2.drop(columns=['Year']).mean())"
   ]
  },
  {
   "cell_type": "code",
   "execution_count": 41,
   "metadata": {},
   "outputs": [
    {
     "name": "stdout",
     "output_type": "stream",
     "text": [
      "Total Co2 Emission (Mt)    6.192160\n",
      "Coal                       0.109982\n",
      "Oil                        2.783645\n",
      "Gas                        0.000000\n",
      "Cement                     0.161670\n",
      "Flaring                    0.000000\n",
      "Per Capita (t)             1.826953\n",
      "dtype: float64\n"
     ]
    }
   ],
   "source": [
    "print(dataCo2.drop(columns=['Year']).median()) "
   ]
  },
  {
   "cell_type": "code",
   "execution_count": 42,
   "metadata": {},
   "outputs": [
    {
     "name": "stdout",
     "output_type": "stream",
     "text": [
      "Total Co2 Emission (Mt)    1682.809028\n",
      "Coal                        706.212991\n",
      "Oil                         623.692216\n",
      "Gas                         301.935756\n",
      "Cement                       60.544121\n",
      "Flaring                      20.613801\n",
      "Per Capita (t)               18.347518\n",
      "dtype: float64\n"
     ]
    }
   ],
   "source": [
    "print(dataCo2.drop(columns=['Year']).std()) #Standard deviation"
   ]
  },
  {
   "cell_type": "code",
   "execution_count": null,
   "metadata": {},
   "outputs": [],
   "source": []
  }
 ],
 "metadata": {
  "kernelspec": {
   "display_name": "Python 3 (ipykernel)",
   "language": "python",
   "name": "python3"
  },
  "language_info": {
   "codemirror_mode": {
    "name": "ipython",
    "version": 3
   },
   "file_extension": ".py",
   "mimetype": "text/x-python",
   "name": "python",
   "nbconvert_exporter": "python",
   "pygments_lexer": "ipython3",
   "version": "3.9.13"
  }
 },
 "nbformat": 4,
 "nbformat_minor": 2
}
