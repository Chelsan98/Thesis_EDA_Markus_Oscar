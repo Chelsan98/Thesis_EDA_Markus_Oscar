{
 "cells": [
  {
   "cell_type": "markdown",
   "metadata": {},
   "source": [
    "This notebook contains the code for the EDA for CO2 Emissions by Country. \n",
    "Explanations for the code will be provided with markdown cells if applicable. More in depth reasonings and theory can be found in the thesis.\n",
    "\n",
    "**What we are measuring written below:**\n",
    "Mean value  \n",
    "Median value \n",
    "normal distribution \n",
    "Relations between columns\n",
    "Top 10 highest CO2 Emissions by Country\n",
    "Top 10 lowest CO2 Emissions by Country\n",
    "\n",
    "**Cleaning methodologies written below:**\n",
    "extreme values with max and min values (0,1%  1%  2,5%  5%)\n",
    "raw (no cleaning)\n",
    "Remove row with empty value (null)\n",
    "Replace empty values with the mean value **check this later**\n",
    "Normalize\n",
    "\n",
    "**Metrics for each column**\n",
    "This was not included in the documentation so these where researched and added here.  \n",
    "'Year', 'Total', 'Coal', 'Oil', 'Gas','Cement', 'Flaring', 'Other', = Megatonnes \n",
    "per capita = tons\n",
    "per caipta example: Austria 2014 61,16 megatonnes total devided by 8 546 000 (official population estimate with a simple google search) gets 7,507605 with the dataset pointing at 7.507548. "
   ]
  },
  {
   "cell_type": "code",
   "execution_count": 16,
   "metadata": {},
   "outputs": [
    {
     "name": "stdout",
     "output_type": "stream",
     "text": [
      "Index(['Country', 'ISO Code', 'Year', 'Total Co2 Emission (Mt)', 'Coal', 'Oil',\n",
      "       'Gas', 'Cement', 'Flaring', 'Other', 'Per Capita (t)'],\n",
      "      dtype='object') \n",
      "\n"
     ]
    }
   ],
   "source": [
    "import pandas as pd\n",
    "import numpy as np\n",
    "\n",
    "import matplotlib.pyplot as plt\n",
    "\n",
    "try:\n",
    "    dataCo2 = pd.read_csv('CO2.csv')\n",
    "    dataCo2= pd.DataFrame(dataCo2)\n",
    "except:\n",
    "    FileNotFoundError \n",
    "    print(\"data can´t be found\")\n",
    "\n",
    "# Rename coulmn names to be more readable\n",
    "dataCo2=dataCo2.rename({\"ISO 3166-1 alpha-3\": \"ISO Code\", \"Total\":\"Total Co2 Emission (Mt)\", \"Per Capita\":\"Per Capita (t)\"},axis=1)\n",
    "print(dataCo2.columns,\"\\n\")\n"
   ]
  },
  {
   "cell_type": "code",
   "execution_count": 17,
   "metadata": {},
   "outputs": [
    {
     "name": "stdout",
     "output_type": "stream",
     "text": [
      "number of nan values per column\n",
      " Country                        0\n",
      "ISO Code                    1632\n",
      "Year                           0\n",
      "Total Co2 Emission (Mt)      200\n",
      "Coal                       41360\n",
      "Oil                        41387\n",
      "Gas                        41486\n",
      "Cement                     42290\n",
      "Flaring                    41554\n",
      "Other                      61484\n",
      "Per Capita (t)             44130\n",
      "dtype: int64\n"
     ]
    }
   ],
   "source": [
    "print(\"number of nan values per column\\n\",dataCo2.isna().sum()) # check for nan values."
   ]
  }
 ],
 "metadata": {
  "kernelspec": {
   "display_name": "Python 3 (ipykernel)",
   "language": "python",
   "name": "python3"
  }
 },
 "nbformat": 4,
 "nbformat_minor": 2
}
