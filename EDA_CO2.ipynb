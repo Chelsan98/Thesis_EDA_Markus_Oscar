{
 "cells": [
  {
   "cell_type": "markdown",
   "metadata": {},
   "source": [
    "This notebook contains the code for the EDA for CO2 Emissions by Country. \n",
    "Explanations for the code will be provided with markdown cells if applicable. More in depth reasonings and theory can be found in the thesis.\n",
    "\n",
    "**What we are measuring written below:**\n",
    "Mean value  \n",
    "Median value \n",
    "normal distribution \n",
    "Relations between columns\n",
    "Top 10 highest CO2 Emissions by Country\n",
    "Top 10 lowest CO2 Emissions by Country\n",
    "\n",
    "**Cleaning methodologies written below:**\n",
    "extreme values with max and min values (0,1%  1%  2,5%  5%)\n",
    "raw (no cleaning)\n",
    "Remove row with empty value (null)\n",
    "Replace empty values with the mean value **check this later**\n",
    "Normalize\n"
   ]
  },
  {
   "cell_type": "code",
   "execution_count": 4,
   "metadata": {},
   "outputs": [
    {
     "name": "stdout",
     "output_type": "stream",
     "text": [
      "Index(['Country', 'ISO 3166-1 alpha-3', 'Year', 'Total', 'Coal', 'Oil', 'Gas',\n",
      "       'Cement', 'Flaring', 'Other', 'Per Capita'],\n",
      "      dtype='object') \n",
      "\n",
      "number of nan values per column\n",
      " Country                   0\n",
      "ISO 3166-1 alpha-3     1632\n",
      "Year                      0\n",
      "Total                   200\n",
      "Coal                  41360\n",
      "Oil                   41387\n",
      "Gas                   41486\n",
      "Cement                42290\n",
      "Flaring               41554\n",
      "Other                 61484\n",
      "Per Capita            44130\n",
      "dtype: int64\n"
     ]
    }
   ],
   "source": [
    "import pandas as pd\n",
    "import numpy as np\n",
    "\n",
    "import matplotlib.pyplot as plt\n",
    "\n",
    "try:\n",
    "    dataCo2 = pd.read_csv('CO2.csv')\n",
    "    dataCo2= pd.DataFrame(dataCo2)\n",
    "except:\n",
    "    FileNotFoundError \n",
    "    print(\"data can´t be found\")\n",
    "print(dataCo2.columns,\"\\n\")\n",
    "#print(dataTest) # \n",
    "print(\"number of nan values per column\\n\",dataCo2.isna().sum()) # check for nan values."
   ]
  },
  {
   "cell_type": "code",
   "execution_count": 7,
   "metadata": {},
   "outputs": [
    {
     "name": "stdout",
     "output_type": "stream",
     "text": [
      "Index(['Period\\Unit:', '[Australian dollar ]', '[Bulgarian lev ]',\n",
      "       '[Brazilian real ]', '[Canadian dollar ]', '[Swiss franc ]',\n",
      "       '[Chinese yuan renminbi ]', '[Cypriot pound ]', '[Czech koruna ]',\n",
      "       '[Danish krone ]', '[Estonian kroon ]', '[UK pound sterling ]',\n",
      "       '[Greek drachma ]', '[Hong Kong dollar ]', '[Croatian kuna ]',\n",
      "       '[Hungarian forint ]', '[Indonesian rupiah ]', '[Israeli shekel ]',\n",
      "       '[Indian rupee ]', '[Iceland krona ]', '[Japanese yen ]',\n",
      "       '[Korean won ]', '[Lithuanian litas ]', '[Latvian lats ]',\n",
      "       '[Maltese lira ]', '[Mexican peso ]', '[Malaysian ringgit ]',\n",
      "       '[Norwegian krone ]', '[New Zealand dollar ]', '[Philippine peso ]',\n",
      "       '[Polish zloty ]', '[Romanian leu ]', '[Russian rouble ]',\n",
      "       '[Swedish krona ]', '[Singapore dollar ]', '[Slovenian tolar ]',\n",
      "       '[Slovak koruna ]', '[Thai baht ]', '[Turkish lira ]', '[US dollar ]',\n",
      "       '[South African rand ]'],\n",
      "      dtype='object') \n",
      "\n",
      "number of nan values per column\n",
      " Period\\Unit:                   0\n",
      "[Australian dollar ]           0\n",
      "[Bulgarian lev ]             402\n",
      "[Brazilian real ]            268\n",
      "[Canadian dollar ]             0\n",
      "[Swiss franc ]                 0\n",
      "[Chinese yuan renminbi ]     268\n",
      "[Cypriot pound ]            4189\n",
      "[Czech koruna ]                0\n",
      "[Danish krone ]                0\n",
      "[Estonian kroon ]           3405\n",
      "[UK pound sterling ]           0\n",
      "[Greek drachma ]            6015\n",
      "[Hong Kong dollar ]            0\n",
      "[Croatian kuna ]             594\n",
      "[Hungarian forint ]            0\n",
      "[Indonesian rupiah ]           0\n",
      "[Israeli shekel ]            268\n",
      "[Indian rupee ]              268\n",
      "[Iceland krona ]            2407\n",
      "[Japanese yen ]                0\n",
      "[Korean won ]                  0\n",
      "[Lithuanian litas ]         2376\n",
      "[Latvian lats ]             2631\n",
      "[Maltese lira ]             4189\n",
      "[Mexican peso ]                0\n",
      "[Malaysian ringgit ]           0\n",
      "[Norwegian krone ]             0\n",
      "[New Zealand dollar ]          0\n",
      "[Philippine peso ]             0\n",
      "[Polish zloty ]                0\n",
      "[Romanian leu ]               62\n",
      "[Russian rouble ]            541\n",
      "[Swedish krona ]               0\n",
      "[Singapore dollar ]            0\n",
      "[Slovenian tolar ]          4450\n",
      "[Slovak koruna ]            3927\n",
      "[Thai baht ]                   0\n",
      "[Turkish lira ]               62\n",
      "[US dollar ]                   0\n",
      "[South African rand ]          0\n",
      "dtype: int64\n"
     ]
    }
   ],
   "source": []
  }
 ],
 "metadata": {
  "kernelspec": {
   "display_name": "Python 3 (ipykernel)",
   "language": "python",
   "name": "python3"
  },
  "language_info": {
   "codemirror_mode": {
    "name": "ipython",
    "version": 3
   },
   "file_extension": ".py",
   "mimetype": "text/x-python",
   "name": "python",
   "nbconvert_exporter": "python",
   "pygments_lexer": "ipython3",
   "version": "3.9.13"
  }
 },
 "nbformat": 4,
 "nbformat_minor": 2
}
