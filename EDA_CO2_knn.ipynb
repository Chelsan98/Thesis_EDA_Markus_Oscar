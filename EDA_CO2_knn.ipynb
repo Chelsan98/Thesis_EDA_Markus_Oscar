{
 "cells": [
  {
   "cell_type": "markdown",
   "metadata": {},
   "source": [
    "## **The start of analysis with all empty values handled with knn**"
   ]
  },
  {
   "cell_type": "code",
   "execution_count": 33,
   "metadata": {},
   "outputs": [
    {
     "name": "stdout",
     "output_type": "stream",
     "text": [
      "           Country ISO 3166-1 alpha-3  UN M49  Year         Total  \\\n",
      "0      Afghanistan                AFG       4  1750           NaN   \n",
      "1      Afghanistan                AFG       4  1751           NaN   \n",
      "2      Afghanistan                AFG       4  1752           NaN   \n",
      "3      Afghanistan                AFG       4  1753           NaN   \n",
      "4      Afghanistan                AFG       4  1754           NaN   \n",
      "...            ...                ...     ...   ...           ...   \n",
      "61420       Global                WLD     756  2018  36766.912297   \n",
      "61421       Global                WLD     756  2019  37039.881946   \n",
      "61422       Global                WLD     756  2020  35007.822458   \n",
      "61423       Global                WLD     756  2021  36815.680623   \n",
      "61424       Global                WLD     756  2022  37150.949699   \n",
      "\n",
      "               Coal           Oil          Gas       Cement     Flaring  \\\n",
      "0               NaN           NaN          NaN     0.000000         NaN   \n",
      "1               NaN           NaN          NaN     0.000000         NaN   \n",
      "2               NaN           NaN          NaN     0.000000         NaN   \n",
      "3               NaN           NaN          NaN     0.000000         NaN   \n",
      "4               NaN           NaN          NaN     0.000000         NaN   \n",
      "...             ...           ...          ...          ...         ...   \n",
      "61420  14725.249126  12267.151230  7498.324347  1565.747837  407.294309   \n",
      "61421  14684.277641  12377.248495  7621.995402  1615.727106  435.425169   \n",
      "61422  14225.918061  10899.216217  7556.077650  1633.042883  398.519503   \n",
      "61423  14982.537322  11513.189924  7922.817236  1692.365347  403.428995   \n",
      "61424  15222.908123  11876.300292  7747.715288  1605.401432  397.451425   \n",
      "\n",
      "            Other  Per Capita  \n",
      "0             NaN         NaN  \n",
      "1             NaN         NaN  \n",
      "2             NaN         NaN  \n",
      "3             NaN         NaN  \n",
      "4             NaN         NaN  \n",
      "...           ...         ...  \n",
      "61420  303.145448    4.784997  \n",
      "61421  305.208132    4.770137  \n",
      "61422  295.048144    4.464741  \n",
      "61423  301.341800    4.654736  \n",
      "61424  301.173140    4.658365  \n",
      "\n",
      "[61425 rows x 12 columns]\n"
     ]
    }
   ],
   "source": [
    "import pandas as pd\n",
    "import numpy as np\n",
    "import seaborn as sbn\n",
    "import matplotlib.pyplot as plt\n",
    "import sys\n",
    "from sklearn.impute import KNNImputer\n",
    "# suppress warnings\n",
    "if not sys.warnoptions:\n",
    "    import warnings\n",
    "    warnings.simplefilter(\"ignore\")\n",
    "\n",
    "try:\n",
    "    dataCo2 = pd.read_csv('CO2.csv')\n",
    "    dataCo2= pd.DataFrame(dataCo2)\n",
    "except:\n",
    "    FileNotFoundError \n",
    "    print(\"data can´t be found\")\n",
    "\n",
    "print(dataCo2) # to see the basic structure of the data\n",
    "dataCo2 = dataCo2.drop([\"UN M49\"], axis=1) # This is recommended by the author as the column is not yet reliable."
   ]
  },
  {
   "cell_type": "code",
   "execution_count": 34,
   "metadata": {},
   "outputs": [],
   "source": [
    "data = dataCo2.select_dtypes(include=[np.number,\"float\"]).columns.to_list()\n",
    "selected_data= dataCo2[data]\n",
    "imputer = KNNImputer(n_neighbors=5, weights='uniform', metric='nan_euclidean')\n",
    "after_imputation=imputer.fit_transform(selected_data)\n",
    "imputed_dataframe= pd.DataFrame(after_imputation,columns=data)\n",
    "# This cell takes a very long time to run (around 3 min) so don´t run all cells if possible"
   ]
  },
  {
   "cell_type": "code",
   "execution_count": 35,
   "metadata": {},
   "outputs": [
    {
     "name": "stdout",
     "output_type": "stream",
     "text": [
      "         Year         Total          Coal           Oil          Gas  \\\n",
      "0      1750.0      5.603821      9.386300      0.000000     0.000000   \n",
      "1      1751.0      5.663925      9.426146      0.000000     0.000000   \n",
      "2      1752.0      5.683513      9.487057      0.000000     0.000000   \n",
      "3      1753.0      5.745230      9.592979      0.000000     0.000000   \n",
      "4      1754.0      5.852126      9.732917      0.000000     0.000000   \n",
      "...       ...           ...           ...           ...          ...   \n",
      "61420  2018.0  36766.912297  14725.249126  12267.151230  7498.324347   \n",
      "61421  2019.0  37039.881946  14684.277641  12377.248495  7621.995402   \n",
      "61422  2020.0  35007.822458  14225.918061  10899.216217  7556.077650   \n",
      "61423  2021.0  36815.680623  14982.537322  11513.189924  7922.817236   \n",
      "61424  2022.0  37150.949699  15222.908123  11876.300292  7747.715288   \n",
      "\n",
      "            Cement     Flaring       Other  Per Capita  \n",
      "0         0.000000    0.000000    1.965780    0.011583  \n",
      "1         0.000000    0.000000    1.965780    0.011583  \n",
      "2         0.000000    0.000000    1.965780    0.011583  \n",
      "3         0.000000    0.000000    1.965780    0.011649  \n",
      "4         0.000000    0.000000    1.965780    0.011719  \n",
      "...            ...         ...         ...         ...  \n",
      "61420  1565.747837  407.294309  303.145448    4.784997  \n",
      "61421  1615.727106  435.425169  305.208132    4.770137  \n",
      "61422  1633.042883  398.519503  295.048144    4.464741  \n",
      "61423  1692.365347  403.428995  301.341800    4.654736  \n",
      "61424  1605.401432  397.451425  301.173140    4.658365  \n",
      "\n",
      "[61425 rows x 9 columns]\n"
     ]
    }
   ],
   "source": [
    "print(imputed_dataframe)\n",
    "Knn_dataset=pd.concat([dataCo2[\"Country\"],dataCo2[\"ISO 3166-1 alpha-3\"],imputed_dataframe],axis=1)"
   ]
  },
  {
   "cell_type": "code",
   "execution_count": 36,
   "metadata": {},
   "outputs": [
    {
     "name": "stdout",
     "output_type": "stream",
     "text": [
      "number of nan values per column\n",
      " Country                    0\n",
      "ISO Code                   0\n",
      "Year                       0\n",
      "Total Co2 Emission (Mt)    0\n",
      "Coal                       0\n",
      "Oil                        0\n",
      "Gas                        0\n",
      "Cement                     0\n",
      "Flaring                    0\n",
      "Other                      0\n",
      "Per Capita (t)             0\n",
      "dtype: int64\n"
     ]
    }
   ],
   "source": [
    "Knn_dataset=Knn_dataset.rename({\"ISO 3166-1 alpha-3\": \"ISO Code\", \"Total\":\"Total Co2 Emission (Mt)\", \"Per Capita\":\"Per Capita (t)\"},axis=1)\n",
    "Knn_dataset=Knn_dataset.dropna()\n",
    "print(\"number of nan values per column\\n\",Knn_dataset.isna().sum()) # check for nan values."
   ]
  },
  {
   "cell_type": "code",
   "execution_count": 37,
   "metadata": {},
   "outputs": [
    {
     "name": "stdout",
     "output_type": "stream",
     "text": [
      "           Country ISO Code    Year  Total Co2 Emission (Mt)          Coal  \\\n",
      "0      Afghanistan      AFG  1750.0                 5.603821      9.386300   \n",
      "1      Afghanistan      AFG  1751.0                 5.663925      9.426146   \n",
      "2      Afghanistan      AFG  1752.0                 5.683513      9.487057   \n",
      "3      Afghanistan      AFG  1753.0                 5.745230      9.592979   \n",
      "4      Afghanistan      AFG  1754.0                 5.852126      9.732917   \n",
      "...            ...      ...     ...                      ...           ...   \n",
      "61420       Global      WLD  2018.0             36766.912297  14725.249126   \n",
      "61421       Global      WLD  2019.0             37039.881946  14684.277641   \n",
      "61422       Global      WLD  2020.0             35007.822458  14225.918061   \n",
      "61423       Global      WLD  2021.0             36815.680623  14982.537322   \n",
      "61424       Global      WLD  2022.0             37150.949699  15222.908123   \n",
      "\n",
      "                Oil          Gas       Cement     Flaring       Other  \\\n",
      "0          0.000000     0.000000     0.000000    0.000000    1.965780   \n",
      "1          0.000000     0.000000     0.000000    0.000000    1.965780   \n",
      "2          0.000000     0.000000     0.000000    0.000000    1.965780   \n",
      "3          0.000000     0.000000     0.000000    0.000000    1.965780   \n",
      "4          0.000000     0.000000     0.000000    0.000000    1.965780   \n",
      "...             ...          ...          ...         ...         ...   \n",
      "61420  12267.151230  7498.324347  1565.747837  407.294309  303.145448   \n",
      "61421  12377.248495  7621.995402  1615.727106  435.425169  305.208132   \n",
      "61422  10899.216217  7556.077650  1633.042883  398.519503  295.048144   \n",
      "61423  11513.189924  7922.817236  1692.365347  403.428995  301.341800   \n",
      "61424  11876.300292  7747.715288  1605.401432  397.451425  301.173140   \n",
      "\n",
      "       Per Capita (t)  \n",
      "0            0.011583  \n",
      "1            0.011583  \n",
      "2            0.011583  \n",
      "3            0.011649  \n",
      "4            0.011719  \n",
      "...               ...  \n",
      "61420        4.784997  \n",
      "61421        4.770137  \n",
      "61422        4.464741  \n",
      "61423        4.654736  \n",
      "61424        4.658365  \n",
      "\n",
      "[60333 rows x 11 columns]\n"
     ]
    }
   ],
   "source": [
    "print(Knn_dataset) "
   ]
  },
  {
   "cell_type": "code",
   "execution_count": 38,
   "metadata": {},
   "outputs": [
    {
     "name": "stdout",
     "output_type": "stream",
     "text": [
      "Total Co2 Emission (Mt)    82.043973\n",
      "Coal                       45.099756\n",
      "Oil                        23.904613\n",
      "Gas                         9.466283\n",
      "Cement                      1.639326\n",
      "Flaring                     0.682325\n",
      "Other                       2.051628\n",
      "Per Capita (t)              2.192979\n",
      "dtype: float64\n"
     ]
    }
   ],
   "source": [
    "print(Knn_dataset.drop(columns=['Year']).mean()) "
   ]
  }
 ],
 "metadata": {
  "kernelspec": {
   "display_name": "Python 3 (ipykernel)",
   "language": "python",
   "name": "python3"
  },
  "language_info": {
   "codemirror_mode": {
    "name": "ipython",
    "version": 3
   },
   "file_extension": ".py",
   "mimetype": "text/x-python",
   "name": "python",
   "nbconvert_exporter": "python",
   "pygments_lexer": "ipython3",
   "version": "3.9.13"
  }
 },
 "nbformat": 4,
 "nbformat_minor": 2
}
