{
 "cells": [
  {
   "cell_type": "markdown",
   "metadata": {},
   "source": [
    "## **The start of analysis with all empty values handled with knn**"
   ]
  },
  {
   "cell_type": "code",
   "execution_count": 1,
   "metadata": {},
   "outputs": [
    {
     "name": "stdout",
     "output_type": "stream",
     "text": [
      "           Country ISO 3166-1 alpha-3  UN M49  Year         Total  \\\n",
      "0      Afghanistan                AFG       4  1750           NaN   \n",
      "1      Afghanistan                AFG       4  1751           NaN   \n",
      "2      Afghanistan                AFG       4  1752           NaN   \n",
      "3      Afghanistan                AFG       4  1753           NaN   \n",
      "4      Afghanistan                AFG       4  1754           NaN   \n",
      "...            ...                ...     ...   ...           ...   \n",
      "61420       Global                WLD     756  2018  36766.912297   \n",
      "61421       Global                WLD     756  2019  37039.881946   \n",
      "61422       Global                WLD     756  2020  35007.822458   \n",
      "61423       Global                WLD     756  2021  36815.680623   \n",
      "61424       Global                WLD     756  2022  37150.949699   \n",
      "\n",
      "               Coal           Oil          Gas       Cement     Flaring  \\\n",
      "0               NaN           NaN          NaN     0.000000         NaN   \n",
      "1               NaN           NaN          NaN     0.000000         NaN   \n",
      "2               NaN           NaN          NaN     0.000000         NaN   \n",
      "3               NaN           NaN          NaN     0.000000         NaN   \n",
      "4               NaN           NaN          NaN     0.000000         NaN   \n",
      "...             ...           ...          ...          ...         ...   \n",
      "61420  14725.249126  12267.151230  7498.324347  1565.747837  407.294309   \n",
      "61421  14684.277641  12377.248495  7621.995402  1615.727106  435.425169   \n",
      "61422  14225.918061  10899.216217  7556.077650  1633.042883  398.519503   \n",
      "61423  14982.537322  11513.189924  7922.817236  1692.365347  403.428995   \n",
      "61424  15222.908123  11876.300292  7747.715288  1605.401432  397.451425   \n",
      "\n",
      "            Other  Per Capita  \n",
      "0             NaN         NaN  \n",
      "1             NaN         NaN  \n",
      "2             NaN         NaN  \n",
      "3             NaN         NaN  \n",
      "4             NaN         NaN  \n",
      "...           ...         ...  \n",
      "61420  303.145448    4.784997  \n",
      "61421  305.208132    4.770137  \n",
      "61422  295.048144    4.464741  \n",
      "61423  301.341800    4.654736  \n",
      "61424  301.173140    4.658365  \n",
      "\n",
      "[61425 rows x 12 columns]\n"
     ]
    }
   ],
   "source": [
    "import pandas as pd\n",
    "import numpy as np\n",
    "import seaborn as sbn\n",
    "import matplotlib.pyplot as plt\n",
    "import sys\n",
    "from sklearn.impute import KNNImputer\n",
    "from sklearn.preprocessing import MinMaxScaler\n",
    "# suppress warnings\n",
    "if not sys.warnoptions:\n",
    "    import warnings\n",
    "    warnings.simplefilter(\"ignore\")\n",
    "\n",
    "try:\n",
    "    dataCo2 = pd.read_csv('CO2.csv')\n",
    "    dataCo2= pd.DataFrame(dataCo2)\n",
    "except:\n",
    "    FileNotFoundError \n",
    "    print(\"data can´t be found\")\n",
    "\n",
    "print(dataCo2) # to see the basic structure of the data\n",
    "dataCo2 = dataCo2.drop([\"UN M49\"], axis=1) # This is recommended by the author as the column is not yet reliable."
   ]
  },
  {
   "cell_type": "code",
   "execution_count": 2,
   "metadata": {},
   "outputs": [
    {
     "name": "stdout",
     "output_type": "stream",
     "text": [
      "          Total      Coal       Oil       Gas    Cement   Flaring     Other  \\\n",
      "0           NaN       NaN       NaN       NaN  0.000000       NaN       NaN   \n",
      "1           NaN       NaN       NaN       NaN  0.000000       NaN       NaN   \n",
      "2           NaN       NaN       NaN       NaN  0.000000       NaN       NaN   \n",
      "3           NaN       NaN       NaN       NaN  0.000000       NaN       NaN   \n",
      "4           NaN       NaN       NaN       NaN  0.000000       NaN       NaN   \n",
      "...         ...       ...       ...       ...       ...       ...       ...   \n",
      "61420  0.989663  0.967309  0.991105  0.946421  0.925183  0.935395  0.992661   \n",
      "61421  0.997010  0.964617  1.000000  0.962031  0.954715  1.000000  0.999415   \n",
      "61422  0.942313  0.934507  0.880585  0.953711  0.964947  0.915242  0.966146   \n",
      "61423  0.990975  0.984210  0.930190  1.000000  1.000000  0.926517  0.986755   \n",
      "61424  1.000000  1.000000  0.959527  0.977899  0.948614  0.912789  0.986202   \n",
      "\n",
      "       Per Capita  \n",
      "0             NaN  \n",
      "1             NaN  \n",
      "2             NaN  \n",
      "3             NaN  \n",
      "4             NaN  \n",
      "...           ...  \n",
      "61420    0.006127  \n",
      "61421    0.006108  \n",
      "61422    0.005717  \n",
      "61423    0.005960  \n",
      "61424    0.005965  \n",
      "\n",
      "[61425 rows x 8 columns]\n"
     ]
    }
   ],
   "source": [
    "copy= dataCo2.drop([\"Country\",\"ISO 3166-1 alpha-3\",\"Year\"], axis=1)\n",
    "# Don´t want to normalize year so it may be used later\n",
    "normalizer = MinMaxScaler()\n",
    "normalizedCo2 = normalizer.fit_transform(copy)\n",
    "normalizedData= pd.DataFrame(normalizedCo2, columns=copy.columns)\n",
    "print(normalizedData)"
   ]
  },
  {
   "cell_type": "code",
   "execution_count": 3,
   "metadata": {},
   "outputs": [],
   "source": [
    "data = normalizedData.select_dtypes(include=[np.number,\"float\"]).columns.to_list() \n",
    "selected_data= normalizedData[data] \n",
    "# to remove normalization simply replace normalizedData with dataCo2 here or vice versa. \n",
    "\n",
    "imputer = KNNImputer(n_neighbors=10, weights='uniform', metric='nan_euclidean')\n",
    "after_imputation=imputer.fit_transform(selected_data)\n",
    "imputed_dataframe= pd.DataFrame(after_imputation,columns=data)\n",
    "# This cell takes a very long time to run (around 3 min) so don´t run all cells if possible"
   ]
  },
  {
   "cell_type": "code",
   "execution_count": 4,
   "metadata": {},
   "outputs": [
    {
     "name": "stdout",
     "output_type": "stream",
     "text": [
      "          Total      Coal       Oil       Gas    Cement   Flaring     Other  \\\n",
      "0      0.000023  0.000000  0.000012  0.000000  0.000000  0.000000  0.000000   \n",
      "1      0.000023  0.000000  0.000012  0.000000  0.000000  0.000000  0.000000   \n",
      "2      0.000023  0.000000  0.000012  0.000000  0.000000  0.000000  0.000000   \n",
      "3      0.000023  0.000000  0.000012  0.000000  0.000000  0.000000  0.000000   \n",
      "4      0.000023  0.000000  0.000012  0.000000  0.000000  0.000000  0.000000   \n",
      "...         ...       ...       ...       ...       ...       ...       ...   \n",
      "61420  0.989663  0.967309  0.991105  0.946421  0.925183  0.935395  0.992661   \n",
      "61421  0.997010  0.964617  1.000000  0.962031  0.954715  1.000000  0.999415   \n",
      "61422  0.942313  0.934507  0.880585  0.953711  0.964947  0.915242  0.966146   \n",
      "61423  0.990975  0.984210  0.930190  1.000000  1.000000  0.926517  0.986755   \n",
      "61424  1.000000  1.000000  0.959527  0.977899  0.948614  0.912789  0.986202   \n",
      "\n",
      "       Per Capita  \n",
      "0        0.001038  \n",
      "1        0.001038  \n",
      "2        0.001038  \n",
      "3        0.001038  \n",
      "4        0.001038  \n",
      "...           ...  \n",
      "61420    0.006127  \n",
      "61421    0.006108  \n",
      "61422    0.005717  \n",
      "61423    0.005960  \n",
      "61424    0.005965  \n",
      "\n",
      "[61425 rows x 8 columns]\n"
     ]
    }
   ],
   "source": [
    "print(imputed_dataframe)\n",
    "Knn_dataset=pd.concat([dataCo2[\"Country\"],dataCo2[\"ISO 3166-1 alpha-3\"],dataCo2[\"Year\"],imputed_dataframe],axis=1)\n",
    "# add back Country, iso code and Year to the dataset again. "
   ]
  },
  {
   "cell_type": "code",
   "execution_count": 5,
   "metadata": {},
   "outputs": [
    {
     "name": "stdout",
     "output_type": "stream",
     "text": [
      "number of nan values per column\n",
      " Country                    0\n",
      "ISO Code                   0\n",
      "Year                       0\n",
      "Total Co2 Emission (Mt)    0\n",
      "Coal                       0\n",
      "Oil                        0\n",
      "Gas                        0\n",
      "Cement                     0\n",
      "Flaring                    0\n",
      "Other                      0\n",
      "Per Capita (t)             0\n",
      "dtype: int64\n"
     ]
    }
   ],
   "source": [
    "Knn_dataset=Knn_dataset.rename({\"ISO 3166-1 alpha-3\": \"ISO Code\", \"Total\":\"Total Co2 Emission (Mt)\", \"Per Capita\":\"Per Capita (t)\"},axis=1)\n",
    "Knn_dataset=Knn_dataset.dropna()\n",
    "print(\"number of nan values per column\\n\",Knn_dataset.isna().sum()) # check for nan values."
   ]
  },
  {
   "cell_type": "code",
   "execution_count": 6,
   "metadata": {},
   "outputs": [
    {
     "name": "stdout",
     "output_type": "stream",
     "text": [
      "           Country ISO Code  Year  Total Co2 Emission (Mt)      Coal  \\\n",
      "0      Afghanistan      AFG  1750                 0.000023  0.000000   \n",
      "1      Afghanistan      AFG  1751                 0.000023  0.000000   \n",
      "2      Afghanistan      AFG  1752                 0.000023  0.000000   \n",
      "3      Afghanistan      AFG  1753                 0.000023  0.000000   \n",
      "4      Afghanistan      AFG  1754                 0.000023  0.000000   \n",
      "...            ...      ...   ...                      ...       ...   \n",
      "61420       Global      WLD  2018                 0.989663  0.967309   \n",
      "61421       Global      WLD  2019                 0.997010  0.964617   \n",
      "61422       Global      WLD  2020                 0.942313  0.934507   \n",
      "61423       Global      WLD  2021                 0.990975  0.984210   \n",
      "61424       Global      WLD  2022                 1.000000  1.000000   \n",
      "\n",
      "            Oil       Gas    Cement   Flaring     Other  Per Capita (t)  \n",
      "0      0.000012  0.000000  0.000000  0.000000  0.000000        0.001038  \n",
      "1      0.000012  0.000000  0.000000  0.000000  0.000000        0.001038  \n",
      "2      0.000012  0.000000  0.000000  0.000000  0.000000        0.001038  \n",
      "3      0.000012  0.000000  0.000000  0.000000  0.000000        0.001038  \n",
      "4      0.000012  0.000000  0.000000  0.000000  0.000000        0.001038  \n",
      "...         ...       ...       ...       ...       ...             ...  \n",
      "61420  0.991105  0.946421  0.925183  0.935395  0.992661        0.006127  \n",
      "61421  1.000000  0.962031  0.954715  1.000000  0.999415        0.006108  \n",
      "61422  0.880585  0.953711  0.964947  0.915242  0.966146        0.005717  \n",
      "61423  0.930190  1.000000  1.000000  0.926517  0.986755        0.005960  \n",
      "61424  0.959527  0.977899  0.948614  0.912789  0.986202        0.005965  \n",
      "\n",
      "[60333 rows x 11 columns]\n"
     ]
    }
   ],
   "source": [
    "print(Knn_dataset) "
   ]
  },
  {
   "cell_type": "code",
   "execution_count": 7,
   "metadata": {},
   "outputs": [
    {
     "name": "stdout",
     "output_type": "stream",
     "text": [
      "Afghanistan\n",
      "Albania\n",
      "Algeria\n",
      "Andorra\n",
      "Angola\n",
      "Anguilla\n",
      "Antarctica\n",
      "Antigua and Barbuda\n",
      "Argentina\n",
      "Armenia\n",
      "Aruba\n",
      "Australia\n",
      "Austria\n",
      "Azerbaijan\n",
      "Bahamas\n",
      "Bahrain\n",
      "Bangladesh\n",
      "Barbados\n",
      "Belarus\n",
      "Belgium\n",
      "Belize\n",
      "Benin\n",
      "Bermuda\n",
      "Bhutan\n",
      "Bonaire, Saint Eustatius and Saba\n",
      "Bosnia and Herzegovina\n",
      "Botswana\n",
      "Brazil\n",
      "British Virgin Islands\n",
      "Brunei Darussalam\n",
      "Bulgaria\n",
      "Burkina Faso\n",
      "Burundi\n",
      "Cambodia\n",
      "Canada\n",
      "Cape Verde\n",
      "Central African Republic\n",
      "Chad\n",
      "Chile\n",
      "China\n",
      "Christmas Island\n",
      "Colombia\n",
      "Comoros\n",
      "Congo\n",
      "Cook Islands\n",
      "Costa Rica\n",
      "Côte d'Ivoire\n",
      "Croatia\n",
      "Cuba\n",
      "Curaçao\n",
      "Cyprus\n",
      "Czechia\n",
      "North Korea\n",
      "Democratic Republic of the Congo\n",
      "Denmark\n",
      "Djibouti\n",
      "Dominica\n",
      "Dominican Republic\n",
      "Ecuador\n",
      "Egypt\n",
      "El Salvador\n",
      "Equatorial Guinea\n",
      "Eritrea\n",
      "Estonia\n",
      "Ethiopia\n",
      "Faeroe Islands\n",
      "Micronesia (Federated States of)\n",
      "Fiji\n",
      "Finland\n",
      "Panama Canal Zone\n",
      "France\n",
      "French Polynesia\n",
      "Gabon\n",
      "Gambia\n",
      "Georgia\n",
      "Germany\n",
      "Ghana\n",
      "Greece\n",
      "Greenland\n",
      "Grenada\n",
      "Guatemala\n",
      "Guinea\n",
      "Guinea-Bissau\n",
      "Guyana\n",
      "Haiti\n",
      "Honduras\n",
      "Hong Kong\n",
      "Hungary\n",
      "Iceland\n",
      "India\n",
      "Indonesia\n",
      "Iraq\n",
      "Ireland\n",
      "Iran\n",
      "Israel\n",
      "Italy\n",
      "Jamaica\n",
      "Japan\n",
      "Jordan\n",
      "Kazakhstan\n",
      "Kenya\n",
      "Kiribati\n",
      "Kosovo\n",
      "Kuwait\n",
      "Kyrgyzstan\n",
      "Laos\n",
      "Latvia\n",
      "Lebanon\n",
      "Lesotho\n",
      "Liberia\n",
      "Libya\n",
      "Liechtenstein\n",
      "Lithuania\n",
      "Luxembourg\n",
      "Macao\n",
      "North Macedonia\n",
      "Madagascar\n",
      "Malawi\n",
      "Malaysia\n",
      "Maldives\n",
      "Mali\n",
      "Malta\n",
      "Marshall Islands\n",
      "Mauritania\n",
      "Mauritius\n",
      "Mexico\n",
      "Mongolia\n",
      "Montenegro\n",
      "Montserrat\n",
      "Morocco\n",
      "Mozambique\n",
      "Myanmar\n",
      "Namibia\n",
      "Nauru\n",
      "Nepal\n",
      "Netherlands\n",
      "New Caledonia\n",
      "New Zealand\n",
      "Nicaragua\n",
      "Niger\n",
      "Nigeria\n",
      "Niue\n",
      "Norway\n",
      "State of Palestine\n",
      "Oman\n",
      "Pakistan\n",
      "Palau\n",
      "Panama\n",
      "Papua New Guinea\n",
      "Paraguay\n",
      "Peru\n",
      "Philippines\n",
      "Bolivia\n",
      "Poland\n",
      "Portugal\n",
      "Qatar\n",
      "Cameroon\n",
      "South Korea\n",
      "Moldova\n",
      "South Sudan\n",
      "Sudan\n",
      "Romania\n",
      "Russia\n",
      "Rwanda\n",
      "Saint Helena\n",
      "Saint Lucia\n",
      "Sint Maarten (Dutch part)\n",
      "Samoa\n",
      "Sao Tome and Principe\n",
      "Saudi Arabia\n",
      "Senegal\n",
      "Serbia\n",
      "Seychelles\n",
      "Sierra Leone\n",
      "Singapore\n",
      "Slovakia\n",
      "Slovenia\n",
      "Solomon Islands\n",
      "Somalia\n",
      "South Africa\n",
      "Spain\n",
      "Sri Lanka\n",
      "Saint Kitts and Nevis\n",
      "St. Kitts-Nevis-Anguilla\n",
      "Saint Pierre and Miquelon\n",
      "Saint Vincent and the Grenadines\n",
      "Suriname\n",
      "Eswatini\n",
      "Sweden\n",
      "Switzerland\n",
      "Syria\n",
      "Taiwan\n",
      "Tajikistan\n",
      "Thailand\n",
      "Timor-Leste\n",
      "Togo\n",
      "Tonga\n",
      "Trinidad and Tobago\n",
      "Tunisia\n",
      "Türkiye\n",
      "Turkmenistan\n",
      "Turks and Caicos Islands\n",
      "Tuvalu\n",
      "Uganda\n",
      "Ukraine\n",
      "United Arab Emirates\n",
      "United Kingdom\n",
      "Tanzania\n",
      "USA\n",
      "Uruguay\n",
      "Uzbekistan\n",
      "Vanuatu\n",
      "Venezuela\n",
      "Viet Nam\n",
      "Wallis and Futuna Islands\n",
      "Yemen\n",
      "Zambia\n",
      "Zimbabwe\n",
      "International Shipping\n",
      "International Aviation\n",
      "Global\n"
     ]
    }
   ],
   "source": [
    "for country in Knn_dataset[\"Country\"].unique():\n",
    "# Here we learn that global (total emission for world) has unique rows and if we don´t remove them we will get duplicate emission\n",
    "    print(country)"
   ]
  },
  {
   "cell_type": "code",
   "execution_count": 8,
   "metadata": {},
   "outputs": [
    {
     "name": "stdout",
     "output_type": "stream",
     "text": [
      "Total Co2 Emission (Mt)    0.003\n",
      "Coal                       0.003\n",
      "Oil                        0.003\n",
      "Gas                        0.002\n",
      "Cement                     0.002\n",
      "Flaring                    0.003\n",
      "Other                      0.018\n",
      "Per Capita (t)             0.005\n",
      "dtype: float64\n"
     ]
    }
   ],
   "source": [
    "drop_global= Knn_dataset[(Knn_dataset[\"Country\"]==\"Global\")].index \n",
    "print(Knn_dataset.drop(drop_global).drop(columns=['Year']).mean().round(3)) \n",
    "# This is to avoid duplicates in the emission results since global is the combined value for everything. If we don´t remove it the result get´s twice as high as it should be."
   ]
  },
  {
   "cell_type": "code",
   "execution_count": 9,
   "metadata": {},
   "outputs": [
    {
     "name": "stdout",
     "output_type": "stream",
     "text": [
      "Total Co2 Emission (Mt)    0.004\n",
      "Coal                       0.005\n",
      "Oil                        0.005\n",
      "Gas                        0.003\n",
      "Cement                     0.002\n",
      "Flaring                    0.004\n",
      "Other                      0.033\n",
      "Per Capita (t)             0.006\n",
      "dtype: float64\n"
     ]
    }
   ],
   "source": [
    "print(Knn_dataset.drop(drop_global).drop(columns=['Year']).median().round(3)) "
   ]
  },
  {
   "cell_type": "code",
   "execution_count": 10,
   "metadata": {},
   "outputs": [
    {
     "name": "stdout",
     "output_type": "stream",
     "text": [
      "Total Co2 Emission (Mt)    0.007\n",
      "Coal                       0.010\n",
      "Oil                        0.007\n",
      "Gas                        0.006\n",
      "Cement                     0.008\n",
      "Flaring                    0.006\n",
      "Other                      0.019\n",
      "Per Capita (t)             0.012\n",
      "dtype: float64\n"
     ]
    }
   ],
   "source": [
    "print(Knn_dataset.drop(drop_global).drop(columns=['Year']).std().round(3)) "
   ]
  },
  {
   "cell_type": "code",
   "execution_count": 11,
   "metadata": {},
   "outputs": [
    {
     "data": {
      "image/png": "[encoded data removed]",
      "text/plain": [
       "<Figure size 640x480 with 1 Axes>"
      ]
     },
     "metadata": {},
     "output_type": "display_data"
    }
   ],
   "source": [
    "\n",
    "top_10 = Knn_dataset.drop(drop_global,inplace=True) # remove global since we want to examine countries and not the world as a whole\n",
    "top_10 = Knn_dataset.groupby('Country')['Total Co2 Emission (Mt)'].sum().nlargest(10).reset_index() # Add the total emission per country and select the ten highest values\n",
    "\n",
    "plt.barh(y=top_10[\"Country\"],width=top_10['Total Co2 Emission (Mt)'])\n",
    "plt.xlabel('Total Co2 Emission')\n",
    "plt.ylabel('Country')\n",
    "plt.title('Top 10 Co2 Total by Country')\n",
    "\n",
    "plt.show()"
   ]
  },
  {
   "cell_type": "code",
   "execution_count": 12,
   "metadata": {},
   "outputs": [
    {
     "data": {
      "image/png": "[encoded data removed]",
      "text/plain": [
       "<Figure size 640x480 with 1 Axes>"
      ]
     },
     "metadata": {},
     "output_type": "display_data"
    }
   ],
   "source": [
    " # remove global since we want to examine countries and not the world as a whole\n",
    "buttom_10 = Knn_dataset.groupby('Country')['Total Co2 Emission (Mt)'].sum().nsmallest(10).reset_index() # Add the total emission per country and select the ten highest values\n",
    "\n",
    "plt.barh(y=buttom_10[\"Country\"],width=buttom_10['Total Co2 Emission (Mt)'])\n",
    "plt.xlabel('Total Co2 Emission')\n",
    "plt.ylabel('Country')\n",
    "plt.title(' Buttom 10 Co2 Total by Country')\n",
    "\n",
    "plt.show()"
   ]
  },
  {
   "cell_type": "code",
   "execution_count": null,
   "metadata": {},
   "outputs": [],
   "source": []
  }
 ],
 "metadata": {
  "kernelspec": {
   "display_name": "Python 3 (ipykernel)",
   "language": "python",
   "name": "python3"
  },
  "language_info": {
   "codemirror_mode": {
    "name": "ipython",
    "version": 3
   },
   "file_extension": ".py",
   "mimetype": "text/x-python",
   "name": "python",
   "nbconvert_exporter": "python",
   "pygments_lexer": "ipython3",
   "version": "3.9.13"
  }
 },
 "nbformat": 4,
 "nbformat_minor": 2
}
