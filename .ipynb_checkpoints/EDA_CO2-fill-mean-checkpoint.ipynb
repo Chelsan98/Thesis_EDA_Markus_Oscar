{
 "cells": [
  {
   "cell_type": "markdown",
   "metadata": {},
   "source": [
    "## **The start of analysis with all empty values substituted for mean**"
   ]
  },
  {
   "cell_type": "code",
   "execution_count": 1,
   "metadata": {},
   "outputs": [],
   "source": [
    "## Import Libraries and Suppress Warnings\n",
    "import pandas as pd\n",
    "import numpy as np\n",
    "import seaborn as sbn\n",
    "import matplotlib.pyplot as plt\n",
    "import sys\n",
    "from sklearn.preprocessing import MinMaxScaler\n",
    "\n",
    "# Suppress warnings\n",
    "if not sys.warnoptions:\n",
    "    import warnings\n",
    "    warnings.simplefilter(\"ignore\")\n"
   ]
  },
  {
   "cell_type": "code",
   "execution_count": 2,
   "metadata": {},
   "outputs": [
    {
     "name": "stdout",
     "output_type": "stream",
     "text": [
      "           Country ISO 3166-1 alpha-3  UN M49  Year         Total  \\\n",
      "0      Afghanistan                AFG       4  1750           NaN   \n",
      "1      Afghanistan                AFG       4  1751           NaN   \n",
      "2      Afghanistan                AFG       4  1752           NaN   \n",
      "3      Afghanistan                AFG       4  1753           NaN   \n",
      "4      Afghanistan                AFG       4  1754           NaN   \n",
      "...            ...                ...     ...   ...           ...   \n",
      "61420       Global                WLD     756  2018  36766.912297   \n",
      "61421       Global                WLD     756  2019  37039.881946   \n",
      "61422       Global                WLD     756  2020  35007.822458   \n",
      "61423       Global                WLD     756  2021  36815.680623   \n",
      "61424       Global                WLD     756  2022  37150.949699   \n",
      "\n",
      "               Coal           Oil          Gas       Cement     Flaring  \\\n",
      "0               NaN           NaN          NaN     0.000000         NaN   \n",
      "1               NaN           NaN          NaN     0.000000         NaN   \n",
      "2               NaN           NaN          NaN     0.000000         NaN   \n",
      "3               NaN           NaN          NaN     0.000000         NaN   \n",
      "4               NaN           NaN          NaN     0.000000         NaN   \n",
      "...             ...           ...          ...          ...         ...   \n",
      "61420  14725.249126  12267.151230  7498.324347  1565.747837  407.294309   \n",
      "61421  14684.277641  12377.248495  7621.995402  1615.727106  435.425169   \n",
      "61422  14225.918061  10899.216217  7556.077650  1633.042883  398.519503   \n",
      "61423  14982.537322  11513.189924  7922.817236  1692.365347  403.428995   \n",
      "61424  15222.908123  11876.300292  7747.715288  1605.401432  397.451425   \n",
      "\n",
      "            Other  Per Capita  \n",
      "0             NaN         NaN  \n",
      "1             NaN         NaN  \n",
      "2             NaN         NaN  \n",
      "3             NaN         NaN  \n",
      "4             NaN         NaN  \n",
      "...           ...         ...  \n",
      "61420  303.145448    4.784997  \n",
      "61421  305.208132    4.770137  \n",
      "61422  295.048144    4.464741  \n",
      "61423  301.341800    4.654736  \n",
      "61424  301.173140    4.658365  \n",
      "\n",
      "[61425 rows x 12 columns]\n"
     ]
    }
   ],
   "source": [
    "## Load and Display the Data\n",
    "try:\n",
    "    dataCo2 = pd.read_csv('CO2.csv')\n",
    "    dataCo2 = pd.DataFrame(dataCo2)\n",
    "except FileNotFoundError:\n",
    "    print(\"data can't be found\")\n",
    "\n",
    "print(dataCo2)  # to see the basic structure of the data\n",
    "dataCo2 = dataCo2.drop([\"UN M49\"], axis=1) # This is recommended by the author as the column is not yet reliable.\n"
   ]
  },
  {
   "cell_type": "code",
   "execution_count": 3,
   "metadata": {},
   "outputs": [
    {
     "name": "stdout",
     "output_type": "stream",
     "text": [
      "          Total      Coal       Oil       Gas    Cement   Flaring     Other  \\\n",
      "0           NaN       NaN       NaN       NaN  0.000000       NaN       NaN   \n",
      "1           NaN       NaN       NaN       NaN  0.000000       NaN       NaN   \n",
      "2           NaN       NaN       NaN       NaN  0.000000       NaN       NaN   \n",
      "3           NaN       NaN       NaN       NaN  0.000000       NaN       NaN   \n",
      "4           NaN       NaN       NaN       NaN  0.000000       NaN       NaN   \n",
      "...         ...       ...       ...       ...       ...       ...       ...   \n",
      "61420  0.989663  0.967309  0.991105  0.946421  0.925183  0.935395  0.992661   \n",
      "61421  0.997010  0.964617  1.000000  0.962031  0.954715  1.000000  0.999415   \n",
      "61422  0.942313  0.934507  0.880585  0.953711  0.964947  0.915242  0.966146   \n",
      "61423  0.990975  0.984210  0.930190  1.000000  1.000000  0.926517  0.986755   \n",
      "61424  1.000000  1.000000  0.959527  0.977899  0.948614  0.912789  0.986202   \n",
      "\n",
      "       Per Capita  \n",
      "0             NaN  \n",
      "1             NaN  \n",
      "2             NaN  \n",
      "3             NaN  \n",
      "4             NaN  \n",
      "...           ...  \n",
      "61420    0.006127  \n",
      "61421    0.006108  \n",
      "61422    0.005717  \n",
      "61423    0.005960  \n",
      "61424    0.005965  \n",
      "\n",
      "[61425 rows x 8 columns]\n"
     ]
    }
   ],
   "source": [
    "## Normalize Data\n",
    "copy = dataCo2.drop([\"Country\", \"ISO 3166-1 alpha-3\", \"Year\"], axis=1)\n",
    "\n",
    "# Don’t want to normalize year so it may be used later\n",
    "normalizer = MinMaxScaler()\n",
    "normalizedCo2 = normalizer.fit_transform(copy)\n",
    "normalizedData = pd.DataFrame(normalizedCo2, columns=copy.columns)\n",
    "print(normalizedData)"
   ]
  },
  {
   "cell_type": "code",
   "execution_count": 4,
   "metadata": {},
   "outputs": [
    {
     "name": "stdout",
     "output_type": "stream",
     "text": [
      "       Year         Total          Coal           Oil          Gas  \\\n",
      "0      1750    153.057634     71.425477     56.566270    24.080376   \n",
      "1      1751    153.057634     71.425477     56.566270    24.080376   \n",
      "2      1752    153.057634     71.425477     56.566270    24.080376   \n",
      "3      1753    153.057634     71.425477     56.566270    24.080376   \n",
      "4      1754    153.057634     71.425477     56.566270    24.080376   \n",
      "...     ...           ...           ...           ...          ...   \n",
      "61420  2018  36766.912297  14725.249126  12267.151230  7498.324347   \n",
      "61421  2019  37039.881946  14684.277641  12377.248495  7621.995402   \n",
      "61422  2020  35007.822458  14225.918061  10899.216217  7556.077650   \n",
      "61423  2021  36815.680623  14982.537322  11513.189924  7922.817236   \n",
      "61424  2022  37150.949699  15222.908123  11876.300292  7747.715288   \n",
      "\n",
      "            Cement     Flaring       Other  Per Capita  \n",
      "0         0.000000    1.789797   10.124879    4.763254  \n",
      "1         0.000000    1.789797   10.124879    4.763254  \n",
      "2         0.000000    1.789797   10.124879    4.763254  \n",
      "3         0.000000    1.789797   10.124879    4.763254  \n",
      "4         0.000000    1.789797   10.124879    4.763254  \n",
      "...            ...         ...         ...         ...  \n",
      "61420  1565.747837  407.294309  303.145448    4.784997  \n",
      "61421  1615.727106  435.425169  305.208132    4.770137  \n",
      "61422  1633.042883  398.519503  295.048144    4.464741  \n",
      "61423  1692.365347  403.428995  301.341800    4.654736  \n",
      "61424  1605.401432  397.451425  301.173140    4.658365  \n",
      "\n",
      "[61425 rows x 9 columns]\n",
      "Year          1886.000000\n",
      "Total          153.057634\n",
      "Coal            71.425477\n",
      "Oil             56.566270\n",
      "Gas             24.080376\n",
      "Cement           3.965080\n",
      "Flaring          1.789797\n",
      "Other           10.124879\n",
      "Per Capita       4.763254\n",
      "dtype: float64\n"
     ]
    }
   ],
   "source": [
    "## Select Numerical Data and Impute Missing Values with Mean\n",
    "data = dataCo2.select_dtypes(include=[np.number, \"float\"]).columns.to_list()\n",
    "selected_data = dataCo2[data]\n",
    "\n",
    "# Imputation with mean\n",
    "\n",
    "imputed_dataframe = selected_data.fillna(selected_data.mean())\n",
    "print(imputed_dataframe)\n",
    "print(imputed_dataframe.mean())"
   ]
  },
  {
   "cell_type": "code",
   "execution_count": 5,
   "metadata": {},
   "outputs": [
    {
     "name": "stdout",
     "output_type": "stream",
     "text": [
      "Number of NaN values per column\n",
      " Country                    0\n",
      "ISO Code                   0\n",
      "Year                       0\n",
      "Year                       0\n",
      "Total Co2 Emission (Mt)    0\n",
      "Coal                       0\n",
      "Oil                        0\n",
      "Gas                        0\n",
      "Cement                     0\n",
      "Flaring                    0\n",
      "Other                      0\n",
      "Per Capita (t)             0\n",
      "dtype: int64\n",
      "           Country ISO Code  Year  Year  Total Co2 Emission (Mt)  \\\n",
      "0      Afghanistan      AFG  1750  1750               153.057634   \n",
      "1      Afghanistan      AFG  1751  1751               153.057634   \n",
      "2      Afghanistan      AFG  1752  1752               153.057634   \n",
      "3      Afghanistan      AFG  1753  1753               153.057634   \n",
      "4      Afghanistan      AFG  1754  1754               153.057634   \n",
      "...            ...      ...   ...   ...                      ...   \n",
      "61420       Global      WLD  2018  2018             36766.912297   \n",
      "61421       Global      WLD  2019  2019             37039.881946   \n",
      "61422       Global      WLD  2020  2020             35007.822458   \n",
      "61423       Global      WLD  2021  2021             36815.680623   \n",
      "61424       Global      WLD  2022  2022             37150.949699   \n",
      "\n",
      "               Coal           Oil          Gas       Cement     Flaring  \\\n",
      "0         71.425477     56.566270    24.080376     0.000000    1.789797   \n",
      "1         71.425477     56.566270    24.080376     0.000000    1.789797   \n",
      "2         71.425477     56.566270    24.080376     0.000000    1.789797   \n",
      "3         71.425477     56.566270    24.080376     0.000000    1.789797   \n",
      "4         71.425477     56.566270    24.080376     0.000000    1.789797   \n",
      "...             ...           ...          ...          ...         ...   \n",
      "61420  14725.249126  12267.151230  7498.324347  1565.747837  407.294309   \n",
      "61421  14684.277641  12377.248495  7621.995402  1615.727106  435.425169   \n",
      "61422  14225.918061  10899.216217  7556.077650  1633.042883  398.519503   \n",
      "61423  14982.537322  11513.189924  7922.817236  1692.365347  403.428995   \n",
      "61424  15222.908123  11876.300292  7747.715288  1605.401432  397.451425   \n",
      "\n",
      "            Other  Per Capita (t)  \n",
      "0       10.124879        4.763254  \n",
      "1       10.124879        4.763254  \n",
      "2       10.124879        4.763254  \n",
      "3       10.124879        4.763254  \n",
      "4       10.124879        4.763254  \n",
      "...           ...             ...  \n",
      "61420  303.145448        4.784997  \n",
      "61421  305.208132        4.770137  \n",
      "61422  295.048144        4.464741  \n",
      "61423  301.341800        4.654736  \n",
      "61424  301.173140        4.658365  \n",
      "\n",
      "[60333 rows x 12 columns]\n"
     ]
    }
   ],
   "source": [
    "## Combine Imputed Data with Original Non-Numerical Columns\n",
    "Mean_dataset = pd.concat([dataCo2[\"Country\"], dataCo2[\"ISO 3166-1 alpha-3\"], dataCo2[\"Year\"], imputed_dataframe], axis=1)\n",
    "# Add back Country, ISO code and Year to the dataset again.\n",
    "Mean_dataset = Mean_dataset.rename({\"ISO 3166-1 alpha-3\": \"ISO Code\", \"Total\": \"Total Co2 Emission (Mt)\", \"Per Capita\": \"Per Capita (t)\"}, axis=1)\n",
    "Mean_dataset = Mean_dataset.dropna()\n",
    "print(\"Number of NaN values per column\\n\", Mean_dataset.isna().sum())  # Check for NaN values.\n",
    "print(Mean_dataset)\n",
    "\n",
    "\n"
   ]
  },
  {
   "cell_type": "code",
   "execution_count": 6,
   "metadata": {},
   "outputs": [
    {
     "name": "stdout",
     "output_type": "stream",
     "text": [
      "DataFrame after dropping 'Global':\n",
      "        Country ISO Code  Year  Year  Total Co2 Emission (Mt)       Coal  \\\n",
      "0  Afghanistan      AFG  1750  1750               153.057634  71.425477   \n",
      "1  Afghanistan      AFG  1751  1751               153.057634  71.425477   \n",
      "2  Afghanistan      AFG  1752  1752               153.057634  71.425477   \n",
      "3  Afghanistan      AFG  1753  1753               153.057634  71.425477   \n",
      "4  Afghanistan      AFG  1754  1754               153.057634  71.425477   \n",
      "\n",
      "        Oil        Gas  Cement   Flaring      Other  Per Capita (t)  \n",
      "0  56.56627  24.080376     0.0  1.789797  10.124879        4.763254  \n",
      "1  56.56627  24.080376     0.0  1.789797  10.124879        4.763254  \n",
      "2  56.56627  24.080376     0.0  1.789797  10.124879        4.763254  \n",
      "3  56.56627  24.080376     0.0  1.789797  10.124879        4.763254  \n",
      "4  56.56627  24.080376     0.0  1.789797  10.124879        4.763254   \n",
      "\n",
      "Mean values:\n",
      " Total Co2 Emission (Mt)    124.387\n",
      "Coal                        58.179\n",
      "Oil                         46.527\n",
      "Gas                         19.805\n",
      "Cement                       3.202\n",
      "Flaring                      1.471\n",
      "Other                        9.991\n",
      "Per Capita (t)               4.782\n",
      "dtype: float64 \n",
      "\n",
      "Median values:\n",
      " Total Co2 Emission (Mt)    153.058\n",
      "Coal                        71.425\n",
      "Oil                         56.566\n",
      "Gas                         24.080\n",
      "Cement                       3.965\n",
      "Flaring                      1.790\n",
      "Other                       10.125\n",
      "Per Capita (t)               4.763\n",
      "dtype: float64 \n",
      "\n",
      "Standard deviation values:\n",
      " Total Co2 Emission (Mt)    264.778\n",
      "Coal                       151.964\n",
      "Oil                         86.505\n",
      "Gas                         46.173\n",
      "Cement                      13.104\n",
      "Flaring                      2.723\n",
      "Other                        3.170\n",
      "Per Capita (t)               9.256\n",
      "dtype: float64 \n",
      "\n"
     ]
    }
   ],
   "source": [
    "# Drop the rows where the \"Country\" column is \"Global\"\n",
    "drop_global = Mean_dataset[Mean_dataset[\"Country\"] == \"Global\"].index\n",
    "Mean_dataset_without_global = Mean_dataset.drop(drop_global)\n",
    "\n",
    "\n",
    "# Check the resulting DataFrame\n",
    "print(\"DataFrame after dropping 'Global':\\n\", Mean_dataset_without_global.head(),\"\\n\")\n",
    "\n",
    "# Calculate and print mean, median, and std deviation after removing the \"Global\" rows\n",
    "mean_values = Mean_dataset_without_global.drop(columns=['Year']).mean().round(3)\n",
    "median_values = Mean_dataset_without_global.drop(columns=['Year']).median().round(3)\n",
    "std_values = Mean_dataset_without_global.drop(columns=['Year']).std().round(3)\n",
    "\n",
    "print(\"Mean values:\\n\", mean_values,\"\\n\")\n",
    "print(\"Median values:\\n\", median_values,\"\\n\")\n",
    "print(\"Standard deviation values:\\n\", std_values,\"\\n\")\n",
    "\n"
   ]
  },
  {
   "cell_type": "code",
   "execution_count": 7,
   "metadata": {},
   "outputs": [
    {
     "data": {
      "image/png": "[encoded data removed]",
      "text/plain": [
       "<Figure size 640x480 with 1 Axes>"
      ]
     },
     "metadata": {},
     "output_type": "display_data"
    }
   ],
   "source": [
    "top_10 = Mean_dataset_without_global.groupby('Country')['Total Co2 Emission (Mt)'].sum().nlargest(10).reset_index()  # Add the total emission per country and select the ten highest values\n",
    "\n",
    "plt.barh(y=top_10[\"Country\"], width=top_10['Total Co2 Emission (Mt)'])\n",
    "plt.xlabel('Total Co2 Emission')\n",
    "plt.ylabel('Country')\n",
    "plt.title('Top 10 CO2 Total by Country')\n",
    "\n",
    "plt.show()\n"
   ]
  },
  {
   "cell_type": "code",
   "execution_count": 8,
   "metadata": {},
   "outputs": [
    {
     "data": {
      "image/png": "[encoded data removed]",
      "text/plain": [
       "<Figure size 640x480 with 1 Axes>"
      ]
     },
     "metadata": {},
     "output_type": "display_data"
    }
   ],
   "source": [
    "bottom_10 = Mean_dataset_without_global.groupby('Country')['Total Co2 Emission (Mt)'].sum().nsmallest(10).reset_index()  # Add the total emission per country and select the ten lowest values\n",
    "\n",
    "plt.barh(y=bottom_10[\"Country\"], width=bottom_10['Total Co2 Emission (Mt)'])\n",
    "plt.xlabel('Total Co2 Emission')\n",
    "plt.ylabel('Country')\n",
    "plt.title('Bottom 10 CO2 Total by Country')\n",
    "\n",
    "plt.show()\n"
   ]
  }
 ],
 "metadata": {
  "kernelspec": {
   "display_name": "Python 3 (ipykernel)",
   "language": "python",
   "name": "python3"
  },
  "language_info": {
   "codemirror_mode": {
    "name": "ipython",
    "version": 3
   },
   "file_extension": ".py",
   "mimetype": "text/x-python",
   "name": "python",
   "nbconvert_exporter": "python",
   "pygments_lexer": "ipython3",
   "version": "3.9.13"
  }
 },
 "nbformat": 4,
 "nbformat_minor": 2
}
